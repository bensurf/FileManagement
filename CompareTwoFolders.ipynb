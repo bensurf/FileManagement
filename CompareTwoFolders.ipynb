{
 "cells": [
  {
   "cell_type": "code",
   "execution_count": 3,
   "id": "e2775fac-6a16-4460-bcf6-c3791176aeef",
   "metadata": {},
   "outputs": [],
   "source": [
    "from os import listdir\n",
    "from os import path\n",
    "from os import rename\n",
    "from datetime import datetime\n",
    "import pandas as pd\n",
    "\n",
    "\n"
   ]
  },
  {
   "cell_type": "code",
   "execution_count": 5,
   "id": "0aaadf4a-76ac-44f6-a976-75ec21de7e78",
   "metadata": {},
   "outputs": [],
   "source": [
    "folder1 = \"/Users/ben/Dropbox/_2024 (TODO -- ORGANIZE THIS) -- Computer backup Feb 21, 2024/Camera uploads backup/\"\n",
    "folder2 = \"/Users/ben/Dropbox/Camera uploads/\""
   ]
  },
  {
   "cell_type": "code",
   "execution_count": 9,
   "id": "4c6d1d0e-568e-404c-9a57-c57d5e7a7fb1",
   "metadata": {},
   "outputs": [],
   "source": [
    "def get_dataframe_from_folder(folder_name):\n",
    "    filenames = listdir(folder_name)\n",
    "    df = pd.DataFrame(columns=[\"Filename\",\"Date Modified\"])\n",
    "    df[\"Filename\"] = filenames\n",
    "\n",
    "    for i in range(len(df)):\n",
    "            df.loc[i,\"Date Modified\"] = path.getmtime(folder_name+df.iloc[i][\"Filename\"])\n",
    "\n",
    "    return df"
   ]
  },
  {
   "cell_type": "code",
   "execution_count": 153,
   "id": "ca159cad-bbb3-4ebf-8108-9c7e389b162b",
   "metadata": {},
   "outputs": [],
   "source": [
    "df1 = get_dataframe_from_folder(folder1)\n",
    "df1.sort_values(by='Date Modified', inplace=True)\n",
    "df1.reset_index(drop=True, inplace=True)\n",
    "\n",
    "df2 = get_dataframe_from_folder(folder2)\n",
    "df2.sort_values(by='Date Modified', inplace=True)\n",
    "df2.reset_index(drop=True, inplace=True)"
   ]
  },
  {
   "cell_type": "code",
   "execution_count": 154,
   "id": "6711e946-1036-4081-95fb-76bcb6455fd9",
   "metadata": {},
   "outputs": [
    {
     "data": {
      "text/plain": [
       "10466"
      ]
     },
     "execution_count": 154,
     "metadata": {},
     "output_type": "execute_result"
    }
   ],
   "source": [
    "len(df1)"
   ]
  },
  {
   "cell_type": "code",
   "execution_count": 155,
   "id": "41b4d586-1597-47f8-8785-036f68906be0",
   "metadata": {},
   "outputs": [
    {
     "data": {
      "text/plain": [
       "13782"
      ]
     },
     "execution_count": 155,
     "metadata": {},
     "output_type": "execute_result"
    }
   ],
   "source": [
    "len(df2)"
   ]
  },
  {
   "cell_type": "code",
   "execution_count": 159,
   "id": "655666fd-aaf5-4079-aa52-a0111084b2d2",
   "metadata": {},
   "outputs": [],
   "source": [
    "indices = []\n",
    "\n",
    "for i in range(len(df1)):\n",
    "    entry = list(df1.iloc[i])\n",
    "    is_in = df2.isin(entry).all(axis=1).any()\n",
    "    if is_in:\n",
    "        indices.append(df2[df2.isin(entry).all(axis=1)].index[0])\n",
    "    else:\n",
    "        indices.append(False)"
   ]
  },
  {
   "cell_type": "code",
   "execution_count": 160,
   "id": "6318b1c0-3fcf-4e4d-87e9-12a313bf802f",
   "metadata": {},
   "outputs": [
    {
     "name": "stdout",
     "output_type": "stream",
     "text": [
      "4\n",
      "10471\n"
     ]
    }
   ],
   "source": [
    "print(indices[0])\n",
    "print(indices[-2])"
   ]
  },
  {
   "cell_type": "code",
   "execution_count": 163,
   "id": "804a9b8b-8780-4cd6-ad4e-2059fd25e275",
   "metadata": {},
   "outputs": [],
   "source": [
    "df2 = df2[4:10472]"
   ]
  },
  {
   "cell_type": "code",
   "execution_count": 165,
   "id": "fa37c0bd-449f-42e4-a72a-2fabc98a73a0",
   "metadata": {},
   "outputs": [
    {
     "data": {
      "text/plain": [
       "10466"
      ]
     },
     "execution_count": 165,
     "metadata": {},
     "output_type": "execute_result"
    }
   ],
   "source": [
    "len(df1)"
   ]
  },
  {
   "cell_type": "code",
   "execution_count": 167,
   "id": "2d802f1c-7174-4a80-adda-1ed7e025f364",
   "metadata": {},
   "outputs": [
    {
     "data": {
      "text/plain": [
       "10468"
      ]
     },
     "execution_count": 167,
     "metadata": {},
     "output_type": "execute_result"
    }
   ],
   "source": [
    "len(df2)"
   ]
  },
  {
   "cell_type": "code",
   "execution_count": 169,
   "id": "f66d7492-5a9b-4e14-b484-512aa42e3e61",
   "metadata": {},
   "outputs": [],
   "source": [
    "is_in = []\n",
    "\n",
    "for i in range(len(df2)):\n",
    "    entry = list(df2.iloc[i])\n",
    "    is_in.append(df1.isin(entry).all(axis=1).any())\n",
    "    #if is_in:\n",
    "    #    indices.append(df2[df2.isin(entry).all(axis=1)].index[0])\n",
    "    #else:\n",
    "    #    indices.append(False)"
   ]
  },
  {
   "cell_type": "code",
   "execution_count": null,
   "id": "846ab925-7cad-4978-a41a-d2b3b4cfff5d",
   "metadata": {},
   "outputs": [],
   "source": []
  },
  {
   "cell_type": "code",
   "execution_count": null,
   "id": "a86a2246-fd8e-425d-892d-a5d58c59d457",
   "metadata": {},
   "outputs": [],
   "source": []
  },
  {
   "cell_type": "code",
   "execution_count": null,
   "id": "8bc94b8f-950a-4a92-9050-9eb1d35c1507",
   "metadata": {},
   "outputs": [],
   "source": []
  },
  {
   "cell_type": "code",
   "execution_count": null,
   "id": "2a7a38a5-cea8-4ba5-b748-a0756a508ed2",
   "metadata": {},
   "outputs": [],
   "source": []
  },
  {
   "cell_type": "code",
   "execution_count": 171,
   "id": "04289c1b-5efc-4cff-9f52-f2cde441cdd5",
   "metadata": {},
   "outputs": [],
   "source": [
    "df2[\"in_other_folder\"] = is_in"
   ]
  },
  {
   "cell_type": "code",
   "execution_count": 173,
   "id": "b7a363ff-29e3-4dcf-ad95-310ab5f991e9",
   "metadata": {},
   "outputs": [
    {
     "data": {
      "text/html": [
       "<div>\n",
       "<style scoped>\n",
       "    .dataframe tbody tr th:only-of-type {\n",
       "        vertical-align: middle;\n",
       "    }\n",
       "\n",
       "    .dataframe tbody tr th {\n",
       "        vertical-align: top;\n",
       "    }\n",
       "\n",
       "    .dataframe thead th {\n",
       "        text-align: right;\n",
       "    }\n",
       "</style>\n",
       "<table border=\"1\" class=\"dataframe\">\n",
       "  <thead>\n",
       "    <tr style=\"text-align: right;\">\n",
       "      <th></th>\n",
       "      <th>Filename</th>\n",
       "      <th>Date Modified</th>\n",
       "      <th>in_other_folder</th>\n",
       "    </tr>\n",
       "  </thead>\n",
       "  <tbody>\n",
       "    <tr>\n",
       "      <th>3133</th>\n",
       "      <td>2021-05-11 09.41.33.jpg</td>\n",
       "      <td>1620751293.0</td>\n",
       "      <td>False</td>\n",
       "    </tr>\n",
       "    <tr>\n",
       "      <th>3134</th>\n",
       "      <td>2021-05-29 14.58.08.jpeg</td>\n",
       "      <td>1622325488.0</td>\n",
       "      <td>False</td>\n",
       "    </tr>\n",
       "    <tr>\n",
       "      <th>10095</th>\n",
       "      <td>2023-07-18 17.47.41.heic</td>\n",
       "      <td>1689727661.0</td>\n",
       "      <td>False</td>\n",
       "    </tr>\n",
       "  </tbody>\n",
       "</table>\n",
       "</div>"
      ],
      "text/plain": [
       "                       Filename Date Modified  in_other_folder\n",
       "3133    2021-05-11 09.41.33.jpg  1620751293.0            False\n",
       "3134   2021-05-29 14.58.08.jpeg  1622325488.0            False\n",
       "10095  2023-07-18 17.47.41.heic  1689727661.0            False"
      ]
     },
     "execution_count": 173,
     "metadata": {},
     "output_type": "execute_result"
    }
   ],
   "source": [
    "df2[df2[\"in_other_folder\"] == False]"
   ]
  },
  {
   "cell_type": "code",
   "execution_count": null,
   "id": "025b91a6-bd5d-4c15-a551-8e2951d1bb62",
   "metadata": {},
   "outputs": [],
   "source": []
  }
 ],
 "metadata": {
  "kernelspec": {
   "display_name": "Python 3 (ipykernel)",
   "language": "python",
   "name": "python3"
  },
  "language_info": {
   "codemirror_mode": {
    "name": "ipython",
    "version": 3
   },
   "file_extension": ".py",
   "mimetype": "text/x-python",
   "name": "python",
   "nbconvert_exporter": "python",
   "pygments_lexer": "ipython3",
   "version": "3.12.4"
  }
 },
 "nbformat": 4,
 "nbformat_minor": 5
}
