{
 "cells": [
  {
   "cell_type": "code",
   "execution_count": 3,
   "id": "e2775fac-6a16-4460-bcf6-c3791176aeef",
   "metadata": {},
   "outputs": [],
   "source": [
    "from os import listdir\n",
    "from os import path\n",
    "from os import rename\n",
    "from datetime import datetime\n",
    "import pandas as pd\n",
    "\n",
    "\n"
   ]
  },
  {
   "cell_type": "code",
   "execution_count": 5,
   "id": "0aaadf4a-76ac-44f6-a976-75ec21de7e78",
   "metadata": {},
   "outputs": [],
   "source": [
    "folder1 = \"/Users/ben/Dropbox/_2024 (TODO -- ORGANIZE THIS) -- Computer backup Feb 21, 2024/Camera uploads backup/\"\n",
    "folder2 = \"/Users/ben/Dropbox/Camera uploads/\""
   ]
  },
  {
   "cell_type": "code",
   "execution_count": 9,
   "id": "4c6d1d0e-568e-404c-9a57-c57d5e7a7fb1",
   "metadata": {},
   "outputs": [],
   "source": [
    "def get_dataframe_from_folder(folder_name):\n",
    "    filenames = listdir(folder_name)\n",
    "    df = pd.DataFrame(columns=[\"Filename\",\"Date Modified\"])\n",
    "    df[\"Filename\"] = filenames\n",
    "\n",
    "    for i in range(len(df)):\n",
    "            df.loc[i,\"Date Modified\"] = path.getmtime(folder_name+df.iloc[i][\"Filename\"])\n",
    "\n",
    "    return df"
   ]
  },
  {
   "cell_type": "code",
   "execution_count": 11,
   "id": "ca159cad-bbb3-4ebf-8108-9c7e389b162b",
   "metadata": {},
   "outputs": [],
   "source": [
    "df1 = get_dataframe_from_folder(folder1)\n",
    "df2 = get_dataframe_from_folder(folder2)"
   ]
  },
  {
   "cell_type": "code",
   "execution_count": 17,
   "id": "6711e946-1036-4081-95fb-76bcb6455fd9",
   "metadata": {},
   "outputs": [
    {
     "data": {
      "text/plain": [
       "10466"
      ]
     },
     "execution_count": 17,
     "metadata": {},
     "output_type": "execute_result"
    }
   ],
   "source": [
    "len(df1)"
   ]
  },
  {
   "cell_type": "code",
   "execution_count": 19,
   "id": "41b4d586-1597-47f8-8785-036f68906be0",
   "metadata": {},
   "outputs": [
    {
     "data": {
      "text/plain": [
       "13785"
      ]
     },
     "execution_count": 19,
     "metadata": {},
     "output_type": "execute_result"
    }
   ],
   "source": [
    "len(df2)"
   ]
  },
  {
   "cell_type": "code",
   "execution_count": 31,
   "id": "655666fd-aaf5-4079-aa52-a0111084b2d2",
   "metadata": {},
   "outputs": [],
   "source": [
    "is_in = []\n",
    "\n",
    "for i in range(len(df1)):\n",
    "    entry = list(df1.iloc[i])\n",
    "    is_in.append(df2.isin(entry).all(axis=1).any())"
   ]
  },
  {
   "cell_type": "code",
   "execution_count": 25,
   "id": "85ef327e-744c-4b40-8e56-ba21bd512a5b",
   "metadata": {},
   "outputs": [],
   "source": [
    "a = df1.iloc[2]"
   ]
  },
  {
   "cell_type": "code",
   "execution_count": 27,
   "id": "7d2b1d65-135e-4e90-932c-637dbcf87710",
   "metadata": {},
   "outputs": [
    {
     "data": {
      "text/plain": [
       "Filename         2021-08-30 16.09.02.png\n",
       "Date Modified               1630364942.0\n",
       "Name: 2, dtype: object"
      ]
     },
     "execution_count": 27,
     "metadata": {},
     "output_type": "execute_result"
    }
   ],
   "source": [
    "a"
   ]
  },
  {
   "cell_type": "code",
   "execution_count": 29,
   "id": "00b064ea-9332-4921-9de3-cad1be0ecc1c",
   "metadata": {},
   "outputs": [
    {
     "data": {
      "text/plain": [
       "['2021-08-30 16.09.02.png', 1630364942.0]"
      ]
     },
     "execution_count": 29,
     "metadata": {},
     "output_type": "execute_result"
    }
   ],
   "source": [
    "list(a)"
   ]
  },
  {
   "cell_type": "code",
   "execution_count": 35,
   "id": "04289c1b-5efc-4cff-9f52-f2cde441cdd5",
   "metadata": {},
   "outputs": [],
   "source": [
    "df1[\"in_other_folder\"] = is_in"
   ]
  },
  {
   "cell_type": "code",
   "execution_count": 37,
   "id": "b7a363ff-29e3-4dcf-ad95-310ab5f991e9",
   "metadata": {},
   "outputs": [
    {
     "data": {
      "text/html": [
       "<div>\n",
       "<style scoped>\n",
       "    .dataframe tbody tr th:only-of-type {\n",
       "        vertical-align: middle;\n",
       "    }\n",
       "\n",
       "    .dataframe tbody tr th {\n",
       "        vertical-align: top;\n",
       "    }\n",
       "\n",
       "    .dataframe thead th {\n",
       "        text-align: right;\n",
       "    }\n",
       "</style>\n",
       "<table border=\"1\" class=\"dataframe\">\n",
       "  <thead>\n",
       "    <tr style=\"text-align: right;\">\n",
       "      <th></th>\n",
       "      <th>Filename</th>\n",
       "      <th>Date Modified</th>\n",
       "      <th>in_other_folder</th>\n",
       "    </tr>\n",
       "  </thead>\n",
       "  <tbody>\n",
       "    <tr>\n",
       "      <th>0</th>\n",
       "      <td>2020-07-31 11.08.39.jpg</td>\n",
       "      <td>1596218919.0</td>\n",
       "      <td>True</td>\n",
       "    </tr>\n",
       "    <tr>\n",
       "      <th>1</th>\n",
       "      <td>2022-01-04 23.14.10.jpg</td>\n",
       "      <td>1641366850.0</td>\n",
       "      <td>True</td>\n",
       "    </tr>\n",
       "    <tr>\n",
       "      <th>2</th>\n",
       "      <td>2021-08-30 16.09.02.png</td>\n",
       "      <td>1630364942.0</td>\n",
       "      <td>True</td>\n",
       "    </tr>\n",
       "    <tr>\n",
       "      <th>3</th>\n",
       "      <td>2023-01-19 15.15.16.png</td>\n",
       "      <td>1674170116.0</td>\n",
       "      <td>True</td>\n",
       "    </tr>\n",
       "    <tr>\n",
       "      <th>4</th>\n",
       "      <td>2022-06-11 22.30.38.heic</td>\n",
       "      <td>1655011838.0</td>\n",
       "      <td>True</td>\n",
       "    </tr>\n",
       "  </tbody>\n",
       "</table>\n",
       "</div>"
      ],
      "text/plain": [
       "                   Filename Date Modified  in_other_folder\n",
       "0   2020-07-31 11.08.39.jpg  1596218919.0             True\n",
       "1   2022-01-04 23.14.10.jpg  1641366850.0             True\n",
       "2   2021-08-30 16.09.02.png  1630364942.0             True\n",
       "3   2023-01-19 15.15.16.png  1674170116.0             True\n",
       "4  2022-06-11 22.30.38.heic  1655011838.0             True"
      ]
     },
     "execution_count": 37,
     "metadata": {},
     "output_type": "execute_result"
    }
   ],
   "source": [
    "df1.head()"
   ]
  },
  {
   "cell_type": "code",
   "execution_count": 39,
   "id": "e341e9de-8bda-4224-b575-6e6e1436ee56",
   "metadata": {},
   "outputs": [
    {
     "data": {
      "text/html": [
       "<div>\n",
       "<style scoped>\n",
       "    .dataframe tbody tr th:only-of-type {\n",
       "        vertical-align: middle;\n",
       "    }\n",
       "\n",
       "    .dataframe tbody tr th {\n",
       "        vertical-align: top;\n",
       "    }\n",
       "\n",
       "    .dataframe thead th {\n",
       "        text-align: right;\n",
       "    }\n",
       "</style>\n",
       "<table border=\"1\" class=\"dataframe\">\n",
       "  <thead>\n",
       "    <tr style=\"text-align: right;\">\n",
       "      <th></th>\n",
       "      <th>Filename</th>\n",
       "      <th>Date Modified</th>\n",
       "      <th>in_other_folder</th>\n",
       "    </tr>\n",
       "  </thead>\n",
       "  <tbody>\n",
       "    <tr>\n",
       "      <th>1475</th>\n",
       "      <td>.DS_Store</td>\n",
       "      <td>1734721239.069988</td>\n",
       "      <td>False</td>\n",
       "    </tr>\n",
       "  </tbody>\n",
       "</table>\n",
       "</div>"
      ],
      "text/plain": [
       "       Filename      Date Modified  in_other_folder\n",
       "1475  .DS_Store  1734721239.069988            False"
      ]
     },
     "execution_count": 39,
     "metadata": {},
     "output_type": "execute_result"
    }
   ],
   "source": [
    "df1[df1[\"in_other_folder\"] == False]"
   ]
  },
  {
   "cell_type": "code",
   "execution_count": null,
   "id": "025b91a6-bd5d-4c15-a551-8e2951d1bb62",
   "metadata": {},
   "outputs": [],
   "source": []
  }
 ],
 "metadata": {
  "kernelspec": {
   "display_name": "Python 3 (ipykernel)",
   "language": "python",
   "name": "python3"
  },
  "language_info": {
   "codemirror_mode": {
    "name": "ipython",
    "version": 3
   },
   "file_extension": ".py",
   "mimetype": "text/x-python",
   "name": "python",
   "nbconvert_exporter": "python",
   "pygments_lexer": "ipython3",
   "version": "3.12.4"
  }
 },
 "nbformat": 4,
 "nbformat_minor": 5
}
